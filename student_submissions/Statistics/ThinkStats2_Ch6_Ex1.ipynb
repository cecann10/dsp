{
 "cells": [
  {
   "cell_type": "markdown",
   "metadata": {},
   "source": [
    "## Answer to ThinkStats2 Chapter 6, Exercise 1"
   ]
  },
  {
   "cell_type": "markdown",
   "metadata": {},
   "source": [
    "Income data:\n",
    "- **Median = 51226.45**\n",
    "- **Mean = 74278.71**\n",
    "- **Pearson's Median Skewness = 0.73613**\n",
    "- **Percent under mean = 66%**\n",
    "\n",
    "As the upper bound assumption grows...\n",
    "- the **median does not change**.\n",
    "- the **mean increases**.\n",
    "- the **Pearson's Median Skewness decreases**.\n",
    "- the **percent under the mean increases**."
   ]
  },
  {
   "cell_type": "code",
   "execution_count": null,
   "metadata": {},
   "outputs": [],
   "source": []
  }
 ],
 "metadata": {
  "kernelspec": {
   "display_name": "Python 3",
   "language": "python",
   "name": "python3"
  },
  "language_info": {
   "codemirror_mode": {
    "name": "ipython",
    "version": 3
   },
   "file_extension": ".py",
   "mimetype": "text/x-python",
   "name": "python",
   "nbconvert_exporter": "python",
   "pygments_lexer": "ipython3",
   "version": "3.7.4"
  }
 },
 "nbformat": 4,
 "nbformat_minor": 2
}
