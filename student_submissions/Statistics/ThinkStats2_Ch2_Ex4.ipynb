{
 "cells": [
  {
   "cell_type": "markdown",
   "metadata": {},
   "source": [
    "## Answer to Think Stats 2 - Chapter 2, Exercise 4"
   ]
  },
  {
   "cell_type": "markdown",
   "metadata": {},
   "source": [
    "The **'Cohen's d' between first babies' weight and all other babies' weight is -0.089**.<br/>\n",
    "Based on this finding, **first babies are slightly more likely to be lighter than other (i.e. non-first) babies**.\n",
    "\n",
    "On the other hand, **'Cohen's d' between length of first pregnancies and length of all other pregnancies is  0.029**.<br/> Based on this finding, **first pregnancies are slightly more likely to be longer in length compared to all other (i.e. non-first) pregnancies**. "
   ]
  },
  {
   "cell_type": "code",
   "execution_count": null,
   "metadata": {},
   "outputs": [],
   "source": []
  }
 ],
 "metadata": {
  "kernelspec": {
   "display_name": "Python 3",
   "language": "python",
   "name": "python3"
  },
  "language_info": {
   "codemirror_mode": {
    "name": "ipython",
    "version": 3
   },
   "file_extension": ".py",
   "mimetype": "text/x-python",
   "name": "python",
   "nbconvert_exporter": "python",
   "pygments_lexer": "ipython3",
   "version": "3.7.4"
  }
 },
 "nbformat": 4,
 "nbformat_minor": 2
}
